{
 "cells": [
  {
   "cell_type": "markdown",
   "metadata": {},
   "source": [
    "# 21. Merge Two Sorted Lists\n",
    "\n",
    "- You are given the heads of two sorted linked lists list1 and list2.\n",
    "\n",
    "- Merge the two lists into one sorted list. The list should be made by splicing together the nodes of the first two lists.\n",
    "\n",
    "- Return the head of the merged linked list."
   ]
  },
  {
   "cell_type": "markdown",
   "metadata": {},
   "source": [
    "## Algorithm to solve the problem\n",
    "\n",
    "- **Initialize:** Create a dummy node to serve as the head of the merged list. Create a tail pointer to track the end of the merged list.\n",
    "  \n",
    "- **Iterate and Merge:**\n",
    "  \n",
    "  - Compare the values of the current nodes in both input lists.\n",
    "  - Append the smaller node to the tail of the merged list.\n",
    "  - Advance the pointer of the list from which the node was taken.\n",
    "  - Move the tail pointer to the newly appended node.\n",
    "- **Handle Remaining Nodes:** After the main loop, if one list still has nodes, append the remaining nodes to the tail of the merged list.\n",
    "  \n",
    "- **Return Merged List:** Return the next node of the dummy head (excluding the dummy node itself)."
   ]
  },
  {
   "cell_type": "markdown",
   "metadata": {},
   "source": [
    "## Analysis of Algorithm:\n",
    "- **Time Complexity:** $O(n + m)$:\n",
    "     where n and m are the lengths of `list1` and `list2`, respectively. This is because we iterate through both lists at most once, comparing and appending nodes.\n",
    "  \n",
    "- **Space Complexity:** $O(1)$.\n",
    "     We only use a constant amount of extra space for the `dummy` and `tail` pointers, regardless of the list sizes. This is because we modify the existing linked lists in-place."
   ]
  },
  {
   "cell_type": "markdown",
   "metadata": {},
   "source": [
    "## Python code"
   ]
  },
  {
   "cell_type": "code",
   "execution_count": null,
   "metadata": {},
   "outputs": [],
   "source": [
    "# Definition for singly-linked list.\n",
    "class ListNode:\n",
    "    def __init__(self, val=0, next=None):\n",
    "        self.val = val\n",
    "        self.next = next\n",
    "\n",
    "from typing import Optional\n",
    "\n",
    "\n",
    "class Solution:\n",
    "    def mergeTwoLists(self, list1: Optional[ListNode], list2: Optional[ListNode]) -> Optional[ListNode]:\n",
    "        \"\"\"Merges two sorted linked lists into a single sorted linked list.\n",
    "\n",
    "        This function iteratively combines the nodes from list1 and list2 into a new\n",
    "        linked list, preserving the sorted order.\n",
    "\n",
    "        Args:\n",
    "            list1: The head of the first sorted linked list.\n",
    "            list2: The head of the second sorted linked list.\n",
    "\n",
    "        Returns:\n",
    "            The head of the merged sorted linked list.\n",
    "        \"\"\"\n",
    "\n",
    "        # Create a dummy node to serve as a placeholder for the head of the merged list.\n",
    "        # This simplifies handling the head of the merged list.\n",
    "        dummy = ListNode()\n",
    "        tail = dummy  # Tail pointer to track the end of the merged list\n",
    "\n",
    "        # Iterate over both lists until one of them becomes empty.\n",
    "        while list1 and list2:\n",
    "            # Compare the values of the current nodes in both lists.\n",
    "            if list1.val < list2.val:\n",
    "                # Append the smaller node (from list1) to the tail of the merged list.\n",
    "                tail.next = list1\n",
    "                # Advance the pointer in list1 to the next node.\n",
    "                list1 = list1.next\n",
    "            else:\n",
    "                # Append the smaller node (from list2) to the tail of the merged list.\n",
    "                tail.next = list2\n",
    "                # Advance the pointer in list2 to the next node.\n",
    "                list2 = list2.next\n",
    "            # Move the tail pointer to the newly appended node.\n",
    "            tail = tail.next\n",
    "\n",
    "        # Append any remaining nodes from list1 or list2 to the end of the merged list.\n",
    "        tail.next = list1 if list1 else list2\n",
    "\n",
    "        # Return the head of the merged list (excluding the dummy node).\n",
    "        return dummy.next\n"
   ]
  }
 ],
 "metadata": {
  "kernelspec": {
   "display_name": "Python 3",
   "language": "python",
   "name": "python3"
  },
  "language_info": {
   "name": "python",
   "version": "3.12.5"
  }
 },
 "nbformat": 4,
 "nbformat_minor": 2
}
