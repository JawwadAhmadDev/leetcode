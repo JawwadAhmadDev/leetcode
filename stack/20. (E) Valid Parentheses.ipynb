{
 "cells": [
  {
   "cell_type": "markdown",
   "metadata": {},
   "source": [
    "# 20. Valid Parentheses"
   ]
  },
  {
   "cell_type": "markdown",
   "metadata": {},
   "source": [
    "Given a string `s` containing just the characters `'('`, `')'`, `'{'`, `'}'`, `'['` and `']'`, determine if the input string is valid.\n",
    "\n",
    "An input string is valid if:\n",
    "\n",
    "1. Open brackets must be closed by the same type of brackets.\n",
    "2. Open brackets must be closed in the correct order.\n",
    "3. Every close bracket has a corresponding open bracket of the same type.\n",
    "\n",
    "**Example 1:**\n",
    "\n",
    "**Input:** s = \"()\"\n",
    "\n",
    "**Output:** true"
   ]
  },
  {
   "cell_type": "markdown",
   "metadata": {},
   "source": [
    "## Two methods\n"
   ]
  },
  {
   "cell_type": "markdown",
   "metadata": {},
   "source": [
    "## Method 1"
   ]
  },
  {
   "cell_type": "markdown",
   "metadata": {},
   "source": [
    "### Time and Space Complexity:\n",
    "\n",
    "- **Time Complexity:** $O(n)$, where `n` is the length of the string (we traverse the string once).\n",
    "- **Space Complexity:** $O(n)$, because in the worst case, the stack can hold all the opening brackets."
   ]
  },
  {
   "cell_type": "markdown",
   "metadata": {},
   "source": [
    "### Algorithm to solve\n",
    "\n",
    "1. **Create a stack** to keep track of opening brackets.\n",
    "2. **Traverse each character** in the string:\n",
    "  - If the character is an **opening bracket** (`(`, `{`, or `[`), push it onto the stack.\n",
    "  - If the character is a **closing bracket** (`)`, `}`, or `]`):\n",
    "    - Check if the stack is empty. If it's empty, return `false` because there’s no matching opening bracket.\n",
    "    - **Pop the top element** from the stack, and check if the popped bracket matches the current closing bracket. We’ll do this using conditional statements instead of a dictionary.\n",
    "    - If they don’t match, return `false`.\n",
    "3. **After processing the string**, if the stack is empty, return `true`. Otherwise, return `false`.\n",
    "\n",
    "### Algorithm Explanation\n",
    "\n",
    "- For each opening bracket, we push it onto the stack.\n",
    "- For each closing bracket, we check the top of the stack to see if it matches the corresponding opening bracket.\n",
    "- We manually check the matching condition using `if` statements rather than a dictionary.\n",
    "\n",
    "### Example Walkthrough\n",
    "\n",
    "For the string `\"{[()]}\"`:\n",
    "\n",
    "1. Process `{` → Stack: `['{']`\n",
    "2. Process `[` → Stack: `['{', '[']`\n",
    "3. Process `(` → Stack: `['{', '[', '(']`\n",
    "4. Process `)` → Stack: `['{', '[']` (Pop `(` because it matches with `)`)\n",
    "5. Process `]` → Stack: `['{']` (Pop `[` because it matches with `]`)\n",
    "6. Process `}` → Stack: `[]` (Pop `{` because it matches with `}`)\n",
    "\n",
    "The stack is empty, so the string is valid.\n"
   ]
  },
  {
   "cell_type": "code",
   "execution_count": 1,
   "metadata": {},
   "outputs": [],
   "source": [
    "def isValid(s: str) -> bool:\n",
    "    # Stack to keep track of opening brackets\n",
    "    stack = []\n",
    "    \n",
    "    # Traverse each character in the string\n",
    "    for char in s:\n",
    "        # If the character is an opening bracket, push it to the stack\n",
    "        if char == '(' or char == '{' or char == '[':\n",
    "            stack.append(char)\n",
    "        # If the character is a closing bracket\n",
    "        else:\n",
    "            # Check if stack is empty (no opening bracket to match)\n",
    "            if not stack:\n",
    "                return False\n",
    "            \n",
    "            # Pop the top element from the stack\n",
    "            top_element = stack.pop()\n",
    "            \n",
    "            # Check if the popped element matches the current closing bracket\n",
    "            if char == ')' and top_element != '(':\n",
    "                return False\n",
    "            elif char == '}' and top_element != '{':\n",
    "                return False\n",
    "            elif char == ']' and top_element != '[':\n",
    "                return False\n",
    "    \n",
    "    # If the stack is empty, the string is valid\n",
    "    return not stack\n"
   ]
  },
  {
   "cell_type": "markdown",
   "metadata": {},
   "source": [
    "## Method 2"
   ]
  },
  {
   "cell_type": "markdown",
   "metadata": {},
   "source": [
    "### Time and Space Complexity:\n",
    "\n",
    "- **Time Complexity:** $O(n)$, where `n` is the length of the string (we traverse the string once).\n",
    "- **Space Complexity:** $O(n)$, because in the worst case, the stack can hold all the opening brackets."
   ]
  },
  {
   "cell_type": "markdown",
   "metadata": {},
   "source": [
    "### Algorithm to Solve the Problem\n",
    "\n",
    "To solve this problem, we can use a **stack** data structure. The stack helps us keep track of the opening brackets, and we pop them when we encounter a closing bracket. Let's go through the steps:\n",
    "\n",
    "1. **Create a stack** to hold opening brackets as we process the string.\n",
    "2. **Traverse each character** in the string:\n",
    "  - If the character is an **opening bracket** (`(`, `{`, or `[`), **push it onto the stack**.\n",
    "  - If the character is a **closing bracket**:\n",
    "    - **Check if the stack is empty**. If it's empty, return `false` because there’s no matching opening bracket.\n",
    "    - **Pop the top element** from the stack, and check if the popped bracket matches the closing bracket.\n",
    "    - If they don’t match, return `false`.\n",
    "3. **After processing the string**, if the stack is **empty**, return `true` (all brackets were matched correctly). Otherwise, return `false` (there were unmatched opening brackets).\n",
    "\n",
    "---\n",
    "\n",
    "### Example Walkthrough\n",
    "\n",
    "For the string `\"{[()]}\"`:\n",
    "\n",
    "1. Process `{` → Stack: `['{']`\n",
    "2. Process `[` → Stack: `['{', '[']`\n",
    "3. Process `(` → Stack: `['{', '[', '(']`\n",
    "4. Process `)` → Stack: `['{', '[']` (Pop `(` because it matches with `)`)\n",
    "5. Process `]` → Stack: `['{']` (Pop `[` because it matches with `]`)\n",
    "6. Process `}` → Stack: `[]` (Pop `{` because it matches with `}`)\n",
    "\n",
    "The stack is empty, so the string is valid."
   ]
  },
  {
   "cell_type": "code",
   "execution_count": 2,
   "metadata": {},
   "outputs": [],
   "source": [
    "def isValid(s: str) -> bool:\n",
    "    # Dictionary to hold the matching pairs\n",
    "    matching_brackets = {')': '(', ']': '[', '}': '{'}\n",
    "    \n",
    "    # Stack to keep track of opening brackets\n",
    "    stack = []\n",
    "    \n",
    "    # Traverse each character in the string\n",
    "    for char in s:\n",
    "        if char in matching_brackets:\n",
    "            # Pop the top element if the stack is not empty, otherwise use a dummy value '#'\n",
    "            top_element = stack.pop() if stack else '#'\n",
    "            \n",
    "            # If the popped element does not match the current closing bracket, return False\n",
    "            if matching_brackets[char] != top_element:\n",
    "                return False\n",
    "        else:\n",
    "            # If it's an opening bracket, push it to the stack\n",
    "            stack.append(char)\n",
    "    \n",
    "    # If the stack is empty, the string is valid\n",
    "    return not stack\n"
   ]
  }
 ],
 "metadata": {
  "kernelspec": {
   "display_name": "Python 3",
   "language": "python",
   "name": "python3"
  },
  "language_info": {
   "codemirror_mode": {
    "name": "ipython",
    "version": 3
   },
   "file_extension": ".py",
   "mimetype": "text/x-python",
   "name": "python",
   "nbconvert_exporter": "python",
   "pygments_lexer": "ipython3",
   "version": "3.11.5"
  }
 },
 "nbformat": 4,
 "nbformat_minor": 2
}
