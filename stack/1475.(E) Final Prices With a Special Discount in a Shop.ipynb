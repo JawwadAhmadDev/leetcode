{
 "cells": [
  {
   "cell_type": "markdown",
   "metadata": {},
   "source": [
    "# 1475. Final Prices With a Special Discount in a Shop"
   ]
  },
  {
   "cell_type": "markdown",
   "metadata": {},
   "source": [
    "You are given an integer array `prices` where `prices[i]` is the price of the `ith` item in a shop.\n",
    "\n",
    "There is a special discount for items in the shop. If you buy the `ith` item, then you will receive a discount equivalent to `prices[j]` where `j` is the minimum index such that `j > i` and `prices[j] <= prices[i]`. Otherwise, you will not receive any discount at all.\n",
    "\n",
    "Return an integer array `answer` where `answer[i]` is the final price you will pay for the `ith` item of the shop, considering the special discount.\n",
    "\n",
    "**Example 1:**\n",
    "\n",
    "**Input:** prices = [8,4,6,2,3]\n",
    "**Output:** [4,2,4,2,3]\n",
    "**Explanation:** \n",
    "For item 0 with price[0]=8 you will receive a discount equivalent to prices[1]=4, therefore, the final price you will pay is 8 - 4 = 4.\n",
    "For item 1 with price[1]=4 you will receive a discount equivalent to prices[3]=2, therefore, the final price you will pay is 4 - 2 = 2.\n",
    "For item 2 with price[2]=6 you will receive a discount equivalent to prices[3]=2, therefore, the final price you will pay is 6 - 2 = 4.\n",
    "For items 3 and 4 you will not receive any discount at all."
   ]
  },
  {
   "cell_type": "markdown",
   "metadata": {},
   "source": [
    "## Two methods to solve this problem\n",
    "\n",
    "**Method 1: Brute Force**\n",
    "\n",
    "**Time Complexity: $O(n^2)$**\n",
    "\n",
    "For each item in the array, iterate through all other items to find the maximum index `j` such that `j > i` and `prices[j] <= prices[i]`. If such an index exists, subtract `prices[j]` from the current item's price. Otherwise, keep the item's price unchanged.\n",
    "\n",
    "\n",
    "\n",
    "**Method 2: Using Stack**\n",
    "\n",
    "**Time Complexity: $O(n)$**\n",
    "\n",
    "Initialize an empty stack and iterate through the array `prices`. For each item, while the stack is not empty and the top item's price is less than or equal to the current item's price, pop the top item from the stack. Push the current item onto the stack. Finally, iterate through the stack and update the final prices in the array."
   ]
  },
  {
   "cell_type": "markdown",
   "metadata": {},
   "source": [
    "## Method1: Brute Force Method   $O(N^2)$"
   ]
  },
  {
   "cell_type": "code",
   "execution_count": 2,
   "metadata": {},
   "outputs": [
    {
     "name": "stdout",
     "output_type": "stream",
     "text": [
      "[4, 2, 4, 2, 3]\n"
     ]
    }
   ],
   "source": [
    "def finalPrices(prices):\n",
    "    for i in range(len(prices)):\n",
    "        for j in range(i + 1, len(prices)):\n",
    "            if prices[j] <= prices[i]:\n",
    "                prices[i] -= prices[j]\n",
    "                break\n",
    "    return prices\n",
    "\n",
    "# Example usage:\n",
    "prices = [8, 4, 6, 2, 3]\n",
    "final_prices = finalPrices(prices)\n",
    "print(final_prices)  # Output: [4, 2, 4, 2, 3]"
   ]
  },
  {
   "cell_type": "markdown",
   "metadata": {},
   "source": [
    "# Method 2: Using Stack $O(N)$"
   ]
  },
  {
   "cell_type": "markdown",
   "metadata": {},
   "source": [
    "### from left to right\n"
   ]
  },
  {
   "cell_type": "code",
   "execution_count": 4,
   "metadata": {},
   "outputs": [
    {
     "name": "stdout",
     "output_type": "stream",
     "text": [
      "[4, 2, 4, 2, 3]\n"
     ]
    }
   ],
   "source": [
    "def finalPrices(prices):\n",
    "    stack = []\n",
    "    for i, price in enumerate(prices):\n",
    "        while stack and price < prices[stack[-1]]:\n",
    "            prices[stack.pop()] -= price\n",
    "        stack.append(i)\n",
    "    return prices\n",
    "\n",
    "# Example usage:\n",
    "prices = [8, 4, 6, 2, 3]\n",
    "final_prices = finalPrices(prices)\n",
    "print(final_prices)  # Output: [4, 2, 4, 2, 3]"
   ]
  },
  {
   "cell_type": "markdown",
   "metadata": {},
   "source": [
    "### from right to left"
   ]
  },
  {
   "cell_type": "code",
   "execution_count": 8,
   "metadata": {},
   "outputs": [
    {
     "name": "stdout",
     "output_type": "stream",
     "text": [
      "[8, 0, 4, 2, 3]\n"
     ]
    }
   ],
   "source": [
    "def finalPrices(prices):\n",
    "    stack = []\n",
    "    # Iterate from right to left\n",
    "    for i in range(len(prices) - 1, -1, -1):\n",
    "        # Pop elements from the stack until we find a smaller or equal price\n",
    "        while stack and stack[-1] > prices[i]:\n",
    "            stack.pop()\n",
    "        # If the stack is not empty, the top of the stack is the discount\n",
    "        if stack:\n",
    "            prices[i] -= stack[-1]\n",
    "        # Push the current price onto the stack\n",
    "        stack.append(prices[i])\n",
    "    return prices\n",
    "\n",
    "# Example usage:\n",
    "prices = [8, 4, 6, 2, 3]\n",
    "final_prices = finalPrices(prices)\n",
    "print(final_prices)  # Expected Output: [4, 2, 4, 2, 3]\n"
   ]
  }
 ],
 "metadata": {
  "kernelspec": {
   "display_name": "Python 3",
   "language": "python",
   "name": "python3"
  },
  "language_info": {
   "codemirror_mode": {
    "name": "ipython",
    "version": 3
   },
   "file_extension": ".py",
   "mimetype": "text/x-python",
   "name": "python",
   "nbconvert_exporter": "python",
   "pygments_lexer": "ipython3",
   "version": "3.11.5"
  }
 },
 "nbformat": 4,
 "nbformat_minor": 2
}
