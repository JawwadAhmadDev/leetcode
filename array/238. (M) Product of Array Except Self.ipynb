{
 "cells": [
  {
   "cell_type": "markdown",
   "metadata": {},
   "source": [
    "# 238. Product of Array Except Self \n",
    "[problem link](https://leetcode.com/problems/product-of-array-except-self) "
   ]
  },
  {
   "cell_type": "markdown",
   "metadata": {},
   "source": [
    "# Intuition\n",
    "<!-- Describe your first thoughts on how to solve this problem. -->\n",
    "*The intuition behind this algorithm is to compute the product of all elements except the current one by using prefix and postfix products, allowing us to achieve the desired result without using division and in linear time.*\n",
    "# Approach\n",
    "<!-- Describe your approach to solving the problem. -->\n",
    "## Steps:\n",
    "**Initialization:**\n",
    "- Create an array `result` with the same length as `nums` and initialize it with 1s.\n",
    "\n",
    "**Prefix Product Calculation:**\n",
    "- Iterate through the array `nums` from left to right, updating each position in `result` with the product of all previous elements in `nums`.\n",
    "\n",
    "**Postfix Product Calculation:**\n",
    "- Initialize a variable `postfix` to 1.\n",
    "- Iterate through the array `nums` from right to left, updating each position in `result` with the product of all elements to the right using `postfix`, and then update `postfix` by multiplying it with the current element in `nums`.\n",
    "\n",
    "\n",
    "## Example:\n",
    "\n",
    "```Input: nums = [2, 3, 4]```\n",
    "Initialization: ```result = [1, 1, 1]```\n",
    "\n",
    "**Postfix Products:**\n",
    "- ```result[1] = nums[2] * result[2] = 4 * 1 = 4```\n",
    "- ```result[0] = nums[1] * result[1] = 3 * 4 = 12```\n",
    "\n",
    "**Prefix Products & Combine:**\n",
    "\n",
    "```\n",
    "result[0] = result[0] * prefix = 12 * 1 = 12\n",
    "prefix = prefix * nums[0] = 1 * 2 = 2\n",
    "result[1] = result[1] * prefix = 4 * 2 = 8\n",
    "prefix = prefix * nums[1] = 2 * 3 = 6\n",
    "result[2] = result[2] * prefix = 1 * 6 = 6\n",
    "Output: result = [12, 8, 6]\n",
    "```\n",
    "\n",
    "# Complexity\n",
    "- Time complexity:\n",
    "$$O(n)$$\n",
    "\n",
    "- Space complexity:\n",
    "$$O(1)$$\n",
    "\n",
    "# Code\n",
    "\n",
    "```\n",
    "class Solution:\n",
    "    def productExceptSelf(self, nums: List[int]) -> List[int]:\n",
    "\n",
    "        result: list[int] = [1 for i in range(len(nums))]\n",
    "\n",
    "        for i in range(1, len(nums)):\n",
    "            result[i] = nums[i - 1] * result[i - 1]\n",
    "\n",
    "        postfix: int = 1\n",
    "        for i in range(len(nums) - 1, -1, -1):\n",
    "            result[i] = result[i] * postfix\n",
    "            postfix *= nums[i]\n",
    "\n",
    "        return result\n",
    "\n",
    "\n",
    "```"
   ]
  },
  {
   "cell_type": "code",
   "execution_count": null,
   "metadata": {},
   "outputs": [],
   "source": [
    "class Solution:\n",
    "    def productExceptSelf(self, nums: List[int]) -> List[int]:\n",
    "\n",
    "        # Initialize the result array with 1s\n",
    "        result: list[int] = [1 for i in range(len(nums))]\n",
    "\n",
    "        # Calculate prefix products and store them in the result array\n",
    "        for i in range(1, len(nums)):\n",
    "            # result[i] holds the product of all elements to the left of nums[i]\n",
    "            result[i] = nums[i - 1] * result[i - 1]\n",
    "\n",
    "        # Initialize postfix product to 1\n",
    "        postfix: int = 1\n",
    "        # Calculate postfix products and update the result array\n",
    "        for i in range(len(nums) - 1, -1, -1):\n",
    "            result[i] = result[i] * postfix\n",
    "            postfix *= nums[i]\n",
    "\n",
    "        # Return the result array containing the product of all elements except self\n",
    "        return result\n"
   ]
  },
  {
   "cell_type": "markdown",
   "metadata": {},
   "source": [
    "## Approach 2: Assigning postfixes first"
   ]
  },
  {
   "cell_type": "markdown",
   "metadata": {},
   "source": [
    "## Description"
   ]
  },
  {
   "cell_type": "code",
   "execution_count": null,
   "metadata": {},
   "outputs": [],
   "source": [
    "class Solution:\n",
    "    def productExceptSelf(self, nums: List[int]) -> List[int]:\n",
    "        # Initialize the result array with 1s\n",
    "        result: list[int] = [1 for i in range(len(nums))]\n",
    "\n",
    "        # Calculate postfix products and store them in the result array\n",
    "        # Start from the second last element to the first element\n",
    "        for i in range(len(nums) - 2, -1, -1):\n",
    "            # result[i] holds the product of all elements to the right of nums[i]\n",
    "            result[i] = nums[i + 1] * result[i + 1]\n",
    "\n",
    "        # Initialize prefix product to 1\n",
    "        prefix: int = 1\n",
    "        # Calculate prefix products and update the result array\n",
    "        for i in range(len(nums)):\n",
    "            result[i] *= prefix\n",
    "            prefix *= nums[i]\n",
    "\n",
    "        # Return the result array containing the product of all elements except self\n",
    "        return result\n"
   ]
  }
 ],
 "metadata": {
  "kernelspec": {
   "display_name": "Python 3",
   "language": "python",
   "name": "python3"
  },
  "language_info": {
   "name": "python",
   "version": "3.12.4"
  }
 },
 "nbformat": 4,
 "nbformat_minor": 2
}
