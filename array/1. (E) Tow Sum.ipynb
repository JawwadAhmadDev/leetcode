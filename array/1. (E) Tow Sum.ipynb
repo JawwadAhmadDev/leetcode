{
 "cells": [
  {
   "cell_type": "markdown",
   "metadata": {},
   "source": [
    "# 1. Two Sum"
   ]
  },
  {
   "cell_type": "markdown",
   "metadata": {},
   "source": [
    "Given an array of integers `nums` and an integer `target`, return *indices of the two numbers such that they add up to `target`*.\n",
    "\n",
    "You may assume that each input would have ***exactly* one solution**, and you may not use the *same* element twice.\n",
    "\n",
    "You can return the answer in any order.\n",
    "\n",
    "**Example 1:**\n",
    "\n",
    "**Input:** nums = [2,7,11,15], target = 9\n",
    "**Output:** [0,1]"
   ]
  },
  {
   "cell_type": "markdown",
   "metadata": {},
   "source": [
    "## Approaches"
   ]
  },
  {
   "cell_type": "markdown",
   "metadata": {},
   "source": [
    "- **Brute Force**: Simple but inefficient ($O(n²)$).\n",
    "- **Hash Map**: Optimal solution with $O(n)$ time complexity."
   ]
  },
  {
   "cell_type": "markdown",
   "metadata": {},
   "source": [
    "#### **Brute Force Approach (Nested Loop)**\n",
    "\n",
    "In this approach, you check every possible pair of elements to see if they sum up to the target.\n",
    "\n",
    "- **Algorithm**:\n",
    "  \n",
    "  - Loop through each element in `nums` using an outer loop.\n",
    "  - For each element, loop through the rest of the array using an inner loop.\n",
    "  - Check if the sum of the two elements is equal to `target`.\n",
    "  - If so, return their indices.\n",
    "\n",
    "\n",
    "- **Complexity**:\n",
    "\n",
    "  - **Time Complexity**: $O(n²)$, where n is the number of elements in the array. This is because for each element, you are iterating through the remaining elements.\n",
    "\n",
    "  - **Space Complexity**: $O(n)$\n"
   ]
  },
  {
   "cell_type": "markdown",
   "metadata": {},
   "source": [
    "- **Python Code**:"
   ]
  },
  {
   "cell_type": "code",
   "execution_count": 1,
   "metadata": {},
   "outputs": [],
   "source": [
    "def twoSum(nums, target):\n",
    "    for i in range(len(nums)):\n",
    "        for j in range(i+1, len(nums)):\n",
    "            if nums[i] + nums[j] == target:\n",
    "                return [i, j]"
   ]
  },
  {
   "cell_type": "markdown",
   "metadata": {},
   "source": [
    "####\n",
    "\n",
    "2. #### **Using Hash Map (Optimal Solution)**\n",
    "  \n",
    "\n",
    "This approach optimizes the time complexity by using a hash map (dictionary). The idea is to check if the complement of the current element (i.e., `target - nums[i]`) exists in the map. If it does, you have found the pair. If it doesn’t, store the element and its index in the hash map.\n",
    "\n",
    "- **Algorithm**:\n",
    "  \n",
    "  - Create an empty hash map (dictionary) to store each number's value and its index.\n",
    "  - Loop through the `nums` array:\n",
    "    - For each element, calculate the complement (`complement = target - nums[i]`).\n",
    "    - Check if the complement exists in the hash map:\n",
    "      - If yes, return the index of the complement and the current index.\n",
    "      - If no, store the current element and its index in the hash map.\n",
    "  - This ensures you only loop through the array once.\n",
    "\n",
    "- **Complexity**:\n",
    "  - **Time Complexity**: $O(n)$, where n is the number of elements in the array. We only traverse the array once, and each lookup and insertion in the hash map takes constant time on average.\n",
    "  - **Space Complexity**: $O(n)$, since we may store all elements in the worst case in the hash map."
   ]
  },
  {
   "cell_type": "markdown",
   "metadata": {},
   "source": [
    "- **Python Code**:"
   ]
  },
  {
   "cell_type": "code",
   "execution_count": null,
   "metadata": {},
   "outputs": [],
   "source": [
    "from typing import List\n",
    "\n",
    "\n",
    "class Solution:\n",
    "    def twoSum(self, nums: List[int], target: int) -> List[int]:\n",
    "        hash_map = {} # hashmap to store searched elements\n",
    "\n",
    "        for i, num in enumerate(nums):\n",
    "            complement = target - num\n",
    "\n",
    "            if complement in hash_map:\n",
    "                return [hash_map[complement], i]\n",
    "            \n",
    "            hash_map[num] = i"
   ]
  }
 ],
 "metadata": {
  "kernelspec": {
   "display_name": "Python 3",
   "language": "python",
   "name": "python3"
  },
  "language_info": {
   "codemirror_mode": {
    "name": "ipython",
    "version": 3
   },
   "file_extension": ".py",
   "mimetype": "text/x-python",
   "name": "python",
   "nbconvert_exporter": "python",
   "pygments_lexer": "ipython3",
   "version": "3.12.6"
  }
 },
 "nbformat": 4,
 "nbformat_minor": 2
}
