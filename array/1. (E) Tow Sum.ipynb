{
 "cells": [
  {
   "cell_type": "markdown",
   "metadata": {},
   "source": [
    "# 1. Two Sum"
   ]
  },
  {
   "cell_type": "markdown",
   "metadata": {},
   "source": [
    "Given an array of integers `nums` and an integer `target`, return *indices of the two numbers such that they add up to `target`*.\n",
    "\n",
    "You may assume that each input would have ***exactly* one solution**, and you may not use the *same* element twice.\n",
    "\n",
    "You can return the answer in any order.\n",
    "\n",
    "**Example 1:**\n",
    "\n",
    "**Input:** nums = [2,7,11,15], target = 9\n",
    "**Output:** [0,1]"
   ]
  },
  {
   "cell_type": "markdown",
   "metadata": {},
   "source": [
    "## Approaches"
   ]
  },
  {
   "cell_type": "markdown",
   "metadata": {},
   "source": [
    "- **Brute Force**: Simple but inefficient ($O(n²)$).\n",
    "- **Hash Map**: Optimal solution with $O(n)$ time complexity."
   ]
  },
  {
   "cell_type": "markdown",
   "metadata": {},
   "source": [
    "#### **Brute Force Approach (Nested Loop)**\n",
    "\n",
    "In this approach, you check every possible pair of elements to see if they sum up to the target.\n",
    "\n",
    "- **Algorithm**:\n",
    "  \n",
    "  - Loop through each element in `nums` using an outer loop.\n",
    "  - For each element, loop through the rest of the array using an inner loop.\n",
    "  - Check if the sum of the two elements is equal to `target`.\n",
    "  - If so, return their indices.\n",
    "\n",
    "\n",
    "- **Complexity**:\n",
    "\n",
    "  - **Time Complexity**: $O(n²)$, where n is the number of elements in the array. This is because for each element, you are iterating through the remaining elements.\n",
    "\n",
    "  - **Space Complexity**: $O(n)$\n"
   ]
  },
  {
   "cell_type": "markdown",
   "metadata": {},
   "source": [
    "- **Python Code**:"
   ]
  },
  {
   "cell_type": "code",
   "execution_count": null,
   "metadata": {
    "vscode": {
     "languageId": "plaintext"
    }
   },
   "outputs": [],
   "source": [
    "def twoSum(nums, target):\n",
    "    for i in range(len(nums)):\n",
    "        for j in range(i+1, len(nums)):\n",
    "            if nums[i] + nums[j] == target:\n",
    "                return [i, j]"
   ]
  }
 ],
 "metadata": {
  "language_info": {
   "name": "python"
  }
 },
 "nbformat": 4,
 "nbformat_minor": 2
}
