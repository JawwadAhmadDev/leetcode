{
 "cells": [
  {
   "cell_type": "markdown",
   "metadata": {},
   "source": [
    "# 128. Longest Consecutive Sequence\n",
    "\n",
    "Given an unsorted array of integers `nums`, return the length of the longest consecutive elements sequence.\n",
    "\n",
    "You must write an algorithm that runs in $O(n)$ time."
   ]
  },
  {
   "cell_type": "markdown",
   "metadata": {},
   "source": [
    "# Appraches\n",
    "There are two approahes.\n",
    "1. By sorting          \n",
    "-  $Time Complexity: O(nlogn)$\n",
    "2. Without Sorting:     \n",
    "- $Time Complexity: O(n)$"
   ]
  },
  {
   "cell_type": "markdown",
   "metadata": {},
   "source": [
    "## 1st Approach\n",
    "\n",
    "The provided solution aims to find the longest consecutive sequence within a given array of integers by following these steps:\n",
    "\n",
    "1. **Handle empty input:** Checks if the input list is empty and returns 0 if it is.\n",
    "2. **Remove duplicates and sort:** Converts the input list to a set to remove duplicates and then converts it back to a list. The list is then sorted in ascending order.\n",
    "3. **Initialize variables:** Sets `longest_sequence_count` to 1 to track the maximum length found so far, and `length_of_current_sequence` to 1 to track the length of the current sequence.\n",
    "4. **Iterate and find sequences:** Iterates through the sorted list:\n",
    "  - If the current number plus 1 is also in the list, it's part of the current sequence, so increment `length_of_current_sequence`.\n",
    "  - If the current number plus 1 is not in the list, it's the end of the current sequence. Update `longest_sequence_count` if the current sequence is longer and reset `length_of_current_sequence` to 1 for the next potential sequence.\n",
    "5. **Return maximum length:** Returns the `longest_sequence_count` as the final result."
   ]
  },
  {
   "cell_type": "markdown",
   "metadata": {},
   "source": [
    "## Time and Space Complexity\n",
    "\n",
    "### Time Complexity: O(n log n)\n",
    "\n",
    "- **Sorting:** The `nums.sort()` operation typically uses a comparison-based sorting algorithm (like merge sort or quicksort) which has a time complexity of $O(n log n)$ in average and worst cases.\n",
    "- **Iteration:** The subsequent loop iterates through the sorted list once, which is $O(n)$.\n",
    "\n",
    "Since the sorting step dominates the time complexity, the overall time complexity is $O(n log n)$.\n",
    "\n",
    "### Space Complexity: O(n)\n",
    "\n",
    "- **Set conversion:** Creating a set from the input list might require additional space, which can be up to $O(n)$ in the worst case if all elements are unique.\n",
    "- **Sorted list:** The sorted list is also stored in memory, which takes $O(n)$ space.\n",
    "\n",
    "The overall space complexity is $O(n)$ due to the set conversion and sorted list."
   ]
  },
  {
   "cell_type": "markdown",
   "metadata": {},
   "source": [
    "## Python code"
   ]
  },
  {
   "cell_type": "code",
   "execution_count": null,
   "metadata": {},
   "outputs": [],
   "source": [
    "class Solution:\n",
    "    def longestConsecutive(self, nums: List[int]) -> int:\n",
    "\n",
    "        if not nums:\n",
    "            return 0  # Handle empty input\n",
    "\n",
    "        # Remove duplicates and sort the list\n",
    "        nums = list(set(nums))\n",
    "        nums.sort()\n",
    "\n",
    "        longest_sequence_count = 1  # Initialize longest sequence count\n",
    "        length_of_current_sequence = 1  # Initialize current sequence length\n",
    "\n",
    "        for i in nums:\n",
    "            if i + 1 in nums:\n",
    "                # Current number is part of the current sequence\n",
    "                length_of_current_sequence += 1\n",
    "            else:\n",
    "                # End of the current sequence\n",
    "                longest_sequence_count = max(longest_sequence_count, length_of_current_sequence)\n",
    "                length_of_current_sequence = 1  # Reset for next sequence\n",
    "\n",
    "        return longest_sequence_count"
   ]
  },
  {
   "cell_type": "markdown",
   "metadata": {},
   "source": [
    "## 2nd Approach: (Most Efficient Approach)\n",
    "\n",
    "### Solution Approach\n",
    "\n",
    "We'll use a set to efficiently check for consecutive numbers. The algorithm involves:\n",
    "\n",
    "1. Create a set from the input array to remove duplicates and enable efficient lookups.\n",
    "2. Iterate through the set.\n",
    "3. For each number, check if its predecessor is in the set. If not, it's the start of a potential sequence.\n",
    "4. From this start, count the length of the sequence by checking for consecutive numbers until a break.\n",
    "5. Update the maximum length found so far."
   ]
  },
  {
   "cell_type": "markdown",
   "metadata": {},
   "source": [
    "## Time and Space Complexity Analysis\n",
    "\n",
    "### Time Complexity: $O(n)$\n",
    "\n",
    "- **Creating the set:** Converting the input list to a set takes $O(n)$ time on average.\n",
    "- **Iterating through the set:** The outer loop iterates through each element in the set once, which takes $O(n)$ time.\n",
    "- **Checking for consecutive numbers:** The inner `while` loop checks for consecutive numbers, but crucially, each number is only visited once in this process due to the `if num - 1 not in num_set` condition. This ensures that the total time spent in the inner loop across all iterations of the outer loop is also $O(n)$.\n",
    "\n",
    "Therefore, the overall time complexity is $O(n)$ + $O(n)$ + $O(n)$ = $O(n)$.\n",
    "\n",
    "### Space Complexity: $O(n)$\n",
    "\n",
    "- **Creating the set:** The `num_set` stores all unique elements from the input list, which can take up to $O(n)$ space.\n",
    "- **Other variables:** The variables `longest_streak`, `current_num`, and `current_streak` require constant space, which is negligible compared to the set.\n",
    "\n",
    "Hence, the overall space complexity is $O(n)$."
   ]
  },
  {
   "cell_type": "code",
   "execution_count": null,
   "metadata": {},
   "outputs": [],
   "source": [
    "class Solution:\n",
    "    def longestConsecutive(self, nums: List[int]) -> int:\n",
    "        num_set = set(nums)\n",
    "        longest_streak = 0\n",
    "\n",
    "        for num in num_set:\n",
    "            # Check if this is the start of a sequence\n",
    "            if num - 1 not in num_set:\n",
    "                current_num = num\n",
    "                current_streak = 1\n",
    "\n",
    "                # Extend the sequence as long as possible\n",
    "                while current_num + 1 in num_set:\n",
    "                    current_num += 1\n",
    "                    current_streak += 1\n",
    "\n",
    "                longest_streak = max(longest_streak, current_streak)\n",
    "\n",
    "        return longest_streak"
   ]
  }
 ],
 "metadata": {
  "kernelspec": {
   "display_name": "Python 3",
   "language": "python",
   "name": "python3"
  },
  "language_info": {
   "name": "python",
   "version": "3.12.4"
  }
 },
 "nbformat": 4,
 "nbformat_minor": 2
}
